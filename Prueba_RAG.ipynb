{
 "cells": [
  {
   "cell_type": "code",
   "execution_count": 56,
   "id": "3b18f49e-929d-4d9a-ac01-c2011c405230",
   "metadata": {},
   "outputs": [],
   "source": [
    "import os\n",
    "import numpy as np\n",
    "import nest_asyncio\n",
    "import openai\n",
    "\n",
    "from dotenv import load_dotenv, find_dotenv\n",
    "from trulens_eval import (\n",
    "    Feedback,\n",
    "    TruLlama,\n",
    "    OpenAI\n",
    ")\n",
    "from trulens_eval.feedback import Groundedness\n",
    "from llama_index import SimpleDirectoryReader\n",
    "from llama_index import Document\n",
    "from llama_index import (\n",
    "    ServiceContext,\n",
    "    StorageContext,\n",
    "    VectorStoreIndex,\n",
    "    load_index_from_storage,\n",
    ")\n",
    "from llama_index.node_parser import HierarchicalNodeParser\n",
    "from llama_index.node_parser import get_leaf_nodes\n",
    "from llama_index import StorageContext, load_index_from_storage\n",
    "from llama_index.retrievers import AutoMergingRetriever\n",
    "from llama_index.indices.postprocessor import SentenceTransformerRerank\n",
    "from llama_index.query_engine import RetrieverQueryEngine\n",
    "from llama_index.llms import OpenAI\n",
    "from trulens_eval import Tru\n",
    "\n",
    "nest_asyncio.apply()\n",
    "\n",
    "\n",
    "def get_openai_api_key():\n",
    "    _ = load_dotenv('api.env')\n",
    "\n",
    "    return os.getenv(\"OPENAI_API_KEY\")\n",
    "\n",
    "\n",
    "def get_prebuilt_trulens_recorder(query_engine, app_id):\n",
    "    openai = OpenAI()\n",
    "\n",
    "    qa_relevance = (\n",
    "        Feedback(openai.relevance_with_cot_reasons, name=\"Answer Relevance\")\n",
    "        .on_input_output()\n",
    "    )\n",
    "\n",
    "    qs_relevance = (\n",
    "        Feedback(openai.relevance_with_cot_reasons, name = \"Context Relevance\")\n",
    "        .on_input()\n",
    "        .on(TruLlama.select_source_nodes().node.text)\n",
    "        .aggregate(np.mean)\n",
    "    )\n",
    "\n",
    "#     grounded = Groundedness(groundedness_provider=openai, summarize_provider=openai)\n",
    "    grounded = Groundedness(groundedness_provider=openai)\n",
    "\n",
    "    groundedness = (\n",
    "        Feedback(grounded.groundedness_measure_with_cot_reasons, name=\"Groundedness\")\n",
    "            .on(TruLlama.select_source_nodes().node.text)\n",
    "            .on_output()\n",
    "            .aggregate(grounded.grounded_statements_aggregator)\n",
    "    )\n",
    "\n",
    "    feedbacks = [qa_relevance, qs_relevance, groundedness]\n",
    "    tru_recorder = TruLlama(\n",
    "        query_engine,\n",
    "        app_id=app_id,\n",
    "        feedbacks=feedbacks\n",
    "    )\n",
    "    return tru_recorder"
   ]
  },
  {
   "cell_type": "code",
   "execution_count": 40,
   "id": "cad069fa-327d-435b-bd77-fc925920416e",
   "metadata": {},
   "outputs": [],
   "source": [
    "openai.api_key = get_openai_api_key()"
   ]
  },
  {
   "cell_type": "code",
   "execution_count": 41,
   "id": "f72a4bc0-b46c-4480-a530-8f024f62eb6e",
   "metadata": {},
   "outputs": [],
   "source": [
    "directory = \"/home/theTarnished/Desktop/theTarnished/AI/RAG/pdfss\"\n",
    "files = os.listdir(directory)\n",
    "arrayFiles = [os.path.join(directory, i) for i in files]\n",
    "\n",
    "documents = SimpleDirectoryReader(\n",
    "    input_files=arrayFiles\n",
    ").load_data()"
   ]
  },
  {
   "cell_type": "code",
   "execution_count": 42,
   "id": "39cf842b-0660-4bbf-ae10-4bfb42075b34",
   "metadata": {},
   "outputs": [
    {
     "name": "stdout",
     "output_type": "stream",
     "text": [
      "<class 'list'> \n",
      "\n",
      "38 \n",
      "\n",
      "<class 'llama_index.schema.Document'>\n",
      "Doc ID: e369ee84-780b-4406-bb66-33357e3f3b23\n",
      "Text: trabajo final de grado bennett  para optimizar el proceso de\n",
      "graduación  la upv ideó una solución informática que  facilita la\n",
      "comunicación entre el tutor  y el estudiante  esta herramienta se\n",
      "ejecuta en la web  del sistema académico de la upv  el primer paso es\n",
      "que el jefe de carrera  designe al tutor del trabajo de grado y  luego\n",
      "de igual form...\n"
     ]
    }
   ],
   "source": [
    "print(type(documents), \"\\n\")\n",
    "print(len(documents), \"\\n\")\n",
    "print(type(documents[0]))\n",
    "print(documents[0])"
   ]
  },
  {
   "cell_type": "code",
   "execution_count": 43,
   "id": "6246b579-6439-488b-887b-613b7343a08f",
   "metadata": {},
   "outputs": [],
   "source": [
    "document = Document(text=\"\\n\\n\".join([doc.text for doc in documents]))"
   ]
  },
  {
   "cell_type": "code",
   "execution_count": 44,
   "id": "ad1c7d0f-030f-4626-a936-226e1f8726eb",
   "metadata": {},
   "outputs": [],
   "source": [
    "def build_automerging_index(\n",
    "    documents,\n",
    "    llm,\n",
    "    embed_model=\"local:BAAI/bge-small-en-v1.5\",\n",
    "    save_dir=\"merging_index\",\n",
    "    chunk_sizes=None,\n",
    "):\n",
    "    chunk_sizes = chunk_sizes or [2048, 512, 128]\n",
    "    node_parser = HierarchicalNodeParser.from_defaults(chunk_sizes=chunk_sizes)\n",
    "    nodes = node_parser.get_nodes_from_documents(documents)\n",
    "    leaf_nodes = get_leaf_nodes(nodes)\n",
    "    merging_context = ServiceContext.from_defaults(\n",
    "        llm=llm,\n",
    "        embed_model=embed_model,\n",
    "    )\n",
    "    storage_context = StorageContext.from_defaults()\n",
    "    storage_context.docstore.add_documents(nodes)\n",
    "\n",
    "    if not os.path.exists(save_dir):\n",
    "        automerging_index = VectorStoreIndex(\n",
    "            leaf_nodes, storage_context=storage_context, service_context=merging_context\n",
    "        )\n",
    "        automerging_index.storage_context.persist(persist_dir=save_dir)\n",
    "    else:\n",
    "        automerging_index = load_index_from_storage(\n",
    "            StorageContext.from_defaults(persist_dir=save_dir),\n",
    "            service_context=merging_context,\n",
    "        )\n",
    "    return automerging_index\n",
    "\n",
    "\n",
    "def get_automerging_query_engine(\n",
    "    automerging_index,\n",
    "    similarity_top_k=12,\n",
    "    rerank_top_n=6,\n",
    "):\n",
    "    base_retriever = automerging_index.as_retriever(similarity_top_k=similarity_top_k)\n",
    "    retriever = AutoMergingRetriever(\n",
    "        base_retriever, automerging_index.storage_context, verbose=True\n",
    "    )\n",
    "    rerank = SentenceTransformerRerank(\n",
    "        top_n=rerank_top_n, model=\"BAAI/bge-reranker-base\"\n",
    "    )\n",
    "    auto_merging_engine = RetrieverQueryEngine.from_args(\n",
    "        retriever, node_postprocessors=[rerank]\n",
    "    )\n",
    "    return auto_merging_engine\n",
    "\n",
    "def run_evals(eval_questions, tru_recorder, query_engine):\n",
    "    for question in eval_questions:\n",
    "        with tru_recorder as recording:\n",
    "            response = query_engine.query(question)\n",
    "\n"
   ]
  },
  {
   "cell_type": "code",
   "execution_count": 45,
   "id": "edf37397-4aea-4c63-abf3-08476071eb19",
   "metadata": {},
   "outputs": [],
   "source": [
    "index = build_automerging_index(\n",
    "    [document],\n",
    "    llm=OpenAI(model=\"gpt-3.5-turbo\", temperature=0.1),\n",
    "    save_dir=\"./merging_index\",\n",
    ")"
   ]
  },
  {
   "cell_type": "code",
   "execution_count": 46,
   "id": "e6ee6471-24e2-414a-9003-6209138781f0",
   "metadata": {},
   "outputs": [],
   "source": [
    "query_engine = get_automerging_query_engine(index, similarity_top_k=6)"
   ]
  },
  {
   "cell_type": "code",
   "execution_count": 47,
   "id": "9e591f9b-3c52-40fa-a8a9-705b9be4c8e4",
   "metadata": {},
   "outputs": [],
   "source": [
    "Tru().reset_database()"
   ]
  },
  {
   "cell_type": "code",
   "execution_count": null,
   "id": "dcb3ef9f-7751-433b-b9f7-512e7a5316b0",
   "metadata": {},
   "outputs": [],
   "source": []
  },
  {
   "cell_type": "code",
   "execution_count": 48,
   "id": "fef265bd-53ac-4e5e-9bac-206d06816303",
   "metadata": {},
   "outputs": [
    {
     "data": {
      "text/plain": [
       "['¿Qué documentos debo presentar en la oficina de Registros para inscribirme?',\n",
       " '¿si soy extranjero que debo hacer para inscribirme?',\n",
       " '¿cuales son los pasos para inscribirme?',\n",
       " '¿que es y como dar una materia incompleta?',\n",
       " '¿Cómo obtengo mi credencial estudiantil?',\n",
       " '¿Puedo ir al campus con mi vehiculo?',\n",
       " '¿La upb tiene transporte propio?',\n",
       " '¿que es y como puedo pasar una materia como oyente?',\n",
       " '¿cuanto es el costo para dar un examen diferido?',\n",
       " '¿Cuales son las becas que ofrece la UPB?',\n",
       " '¿Cómo puedo mantener mi beca?',\n",
       " '¿Cual es el proceso por el cual puedo hacer mi practica profesional?']"
      ]
     },
     "execution_count": 48,
     "metadata": {},
     "output_type": "execute_result"
    }
   ],
   "source": [
    "eval_questions = []\n",
    "directory = \"/home/theTarnished/Desktop/theTarnished/AI/RAG/questions.text\"\n",
    "with open(directory, 'r') as file:\n",
    "    for line in file:\n",
    "        # Remove newline character and convert to integer\n",
    "        item = line.strip()\n",
    "        eval_questions.append(item)\n",
    "\n",
    "eval_questions"
   ]
  },
  {
   "cell_type": "code",
   "execution_count": 49,
   "id": "024f9a4a-e9b5-4401-ac93-4e26c3db738f",
   "metadata": {},
   "outputs": [],
   "source": [
    "auto_merging_index_1 = build_automerging_index(\n",
    "    documents,\n",
    "    llm=OpenAI(model=\"gpt-3.5-turbo\", temperature=0.1),\n",
    "    embed_model=\"local:BAAI/bge-small-en-v1.5\",\n",
    "    save_dir=\"merging_index_1\",\n",
    "    chunk_sizes=[2048,512,128],\n",
    ")"
   ]
  },
  {
   "cell_type": "code",
   "execution_count": 50,
   "id": "d87576e0-a44e-4262-9a27-7f9fd7ddde88",
   "metadata": {},
   "outputs": [],
   "source": [
    "auto_merging_engine_1 = get_automerging_query_engine(\n",
    "    auto_merging_index_1,\n",
    "    similarity_top_k=12,\n",
    "    rerank_top_n=6,\n",
    ")"
   ]
  },
  {
   "cell_type": "code",
   "execution_count": 51,
   "id": "eeefedde-6779-4ebf-bdc3-3fdac7f1c71c",
   "metadata": {},
   "outputs": [
    {
     "name": "stdout",
     "output_type": "stream",
     "text": [
      "✅ In Answer Relevance, input prompt will be set to __record__.main_input or `Select.RecordInput` .\n",
      "✅ In Answer Relevance, input response will be set to __record__.main_output or `Select.RecordOutput` .\n",
      "✅ In Context Relevance, input prompt will be set to __record__.main_input or `Select.RecordInput` .\n",
      "✅ In Context Relevance, input response will be set to __record__.app.query.rets.source_nodes[:].node.text .\n",
      "✅ In Groundedness, input source will be set to __record__.app.query.rets.source_nodes[:].node.text .\n",
      "✅ In Groundedness, input statement will be set to __record__.main_output or `Select.RecordOutput` .\n"
     ]
    }
   ],
   "source": [
    "from trulens_eval import (\n",
    "    Feedback,\n",
    "    TruLlama,\n",
    "    OpenAI\n",
    ")\n",
    "\n",
    "tru_recorder = get_prebuilt_trulens_recorder(\n",
    "    auto_merging_engine_1,\n",
    "    app_id ='app_1'\n",
    ")"
   ]
  },
  {
   "cell_type": "code",
   "execution_count": 52,
   "id": "5cf5d3d8-bcae-4c68-b9c8-bb6bcdec0acb",
   "metadata": {},
   "outputs": [
    {
     "name": "stderr",
     "output_type": "stream",
     "text": [
      "A new object of type <class 'llama_index.query_engine.retriever_query_engine.RetrieverQueryEngine'> at 0x7f9803f7c050 is calling an instrumented method <function BaseQueryEngine.query at 0x7f97e0fbfec0>. The path of this call may be incorrect.\n",
      "Guessing path of new object is app based on other object (0x7f9821b934d0) using this function.\n",
      "A new object of type <class 'llama_index.query_engine.retriever_query_engine.RetrieverQueryEngine'> at 0x7f9803f7c050 is calling an instrumented method <function RetrieverQueryEngine.retrieve at 0x7f97d9151120>. The path of this call may be incorrect.\n",
      "Guessing path of new object is app based on other object (0x7f9821b934d0) using this function.\n",
      "A new object of type <class 'llama_index.retrievers.auto_merging_retriever.AutoMergingRetriever'> at 0x7f96e046fb10 is calling an instrumented method <function BaseRetriever.retrieve at 0x7f97e0fbeb60>. The path of this call may be incorrect.\n",
      "Guessing path of new object is app.retriever based on other object (0x7f981cd77650) using this function.\n",
      "A new object of type <class 'llama_index.indices.vector_store.retrievers.retriever.VectorIndexRetriever'> at 0x7f96e046f250 is calling an instrumented method <function BaseRetriever.retrieve at 0x7f97e0fbeb60>. The path of this call may be incorrect.\n",
      "Guessing path of new object is app.retriever based on other object (0x7f981cd77650) using this function.\n",
      "A new object of type <class 'llama_index.vector_stores.simple.SimpleVectorStore'> at 0x7f9803e8cc50 is calling an instrumented method <function SimpleVectorStore.query at 0x7f97e0d55f80>. The path of this call may be incorrect.\n",
      "Guessing path of new object is app.retriever._vector_retriever._index.vector_store based on other object (0x7f981c81b990) using this function.\n"
     ]
    },
    {
     "name": "stdout",
     "output_type": "stream",
     "text": [
      "> Merging 3 nodes into parent node.\n",
      "> Parent node id: 6a26c77b-e5a7-478b-b9d6-86fcfc86e178.\n",
      "> Parent node text: En caso de que tu solicitud \n",
      "sea aceptada, deberás pagar en Caja Bs 400, remites al corr eo ya ci...\n",
      "\n"
     ]
    },
    {
     "name": "stderr",
     "output_type": "stream",
     "text": [
      "A new object of type <class 'llama_index.response_synthesizers.compact_and_refine.CompactAndRefine'> at 0x7f9803f81f50 is calling an instrumented method <function BaseSynthesizer.synthesize at 0x7f97e0e1e700>. The path of this call may be incorrect.\n",
      "Guessing path of new object is app._response_synthesizer based on other object (0x7f9821b91a10) using this function.\n",
      "A new object of type <class 'llama_index.response_synthesizers.compact_and_refine.CompactAndRefine'> at 0x7f9803f81f50 is calling an instrumented method <function CompactAndRefine.get_response at 0x7f97e0e1ef20>. The path of this call may be incorrect.\n",
      "Guessing path of new object is app._response_synthesizer based on other object (0x7f9821b91a10) using this function.\n",
      "A new object of type <class 'llama_index.response_synthesizers.compact_and_refine.CompactAndRefine'> at 0x7f9803f81f50 is calling an instrumented method <function Refine.get_response at 0x7f97e042a840>. The path of this call may be incorrect.\n",
      "Guessing path of new object is app._response_synthesizer based on other object (0x7f9821b91a10) using this function.\n",
      "A new object of type <class 'llama_index.query_engine.retriever_query_engine.RetrieverQueryEngine'> at 0x7f9803f7c050 is calling an instrumented method <function RetrieverQueryEngine.retrieve at 0x7f97d9151120>. The path of this call may be incorrect.\n",
      "Guessing path of new object is app based on other object (0x7f9821b934d0) using this function.\n",
      "A new object of type <class 'llama_index.response_synthesizers.compact_and_refine.CompactAndRefine'> at 0x7f9803f81f50 is calling an instrumented method <function CompactAndRefine.get_response at 0x7f97e0e1ef20>. The path of this call may be incorrect.\n",
      "Guessing path of new object is app._response_synthesizer based on other object (0x7f9821b91a10) using this function.\n",
      "A new object of type <class 'llama_index.response_synthesizers.compact_and_refine.CompactAndRefine'> at 0x7f9803f81f50 is calling an instrumented method <function Refine.get_response at 0x7f97e042a840>. The path of this call may be incorrect.\n",
      "Guessing path of new object is app._response_synthesizer based on other object (0x7f9821b91a10) using this function.\n",
      "A new object of type <class 'llama_index.query_engine.retriever_query_engine.RetrieverQueryEngine'> at 0x7f9803f7c050 is calling an instrumented method <function RetrieverQueryEngine.retrieve at 0x7f97d9151120>. The path of this call may be incorrect.\n",
      "Guessing path of new object is app based on other object (0x7f9821b934d0) using this function.\n",
      "A new object of type <class 'llama_index.response_synthesizers.compact_and_refine.CompactAndRefine'> at 0x7f9803f81f50 is calling an instrumented method <function CompactAndRefine.get_response at 0x7f97e0e1ef20>. The path of this call may be incorrect.\n",
      "Guessing path of new object is app._response_synthesizer based on other object (0x7f9821b91a10) using this function.\n",
      "A new object of type <class 'llama_index.response_synthesizers.compact_and_refine.CompactAndRefine'> at 0x7f9803f81f50 is calling an instrumented method <function Refine.get_response at 0x7f97e042a840>. The path of this call may be incorrect.\n",
      "Guessing path of new object is app._response_synthesizer based on other object (0x7f9821b91a10) using this function.\n",
      "A new object of type <class 'llama_index.query_engine.retriever_query_engine.RetrieverQueryEngine'> at 0x7f9803f7c050 is calling an instrumented method <function RetrieverQueryEngine.retrieve at 0x7f97d9151120>. The path of this call may be incorrect.\n",
      "Guessing path of new object is app based on other object (0x7f9821b934d0) using this function.\n",
      "A new object of type <class 'llama_index.response_synthesizers.compact_and_refine.CompactAndRefine'> at 0x7f9803f81f50 is calling an instrumented method <function CompactAndRefine.get_response at 0x7f97e0e1ef20>. The path of this call may be incorrect.\n",
      "Guessing path of new object is app._response_synthesizer based on other object (0x7f9821b91a10) using this function.\n",
      "A new object of type <class 'llama_index.response_synthesizers.compact_and_refine.CompactAndRefine'> at 0x7f9803f81f50 is calling an instrumented method <function Refine.get_response at 0x7f97e042a840>. The path of this call may be incorrect.\n",
      "Guessing path of new object is app._response_synthesizer based on other object (0x7f9821b91a10) using this function.\n",
      "A new object of type <class 'llama_index.query_engine.retriever_query_engine.RetrieverQueryEngine'> at 0x7f9803f7c050 is calling an instrumented method <function RetrieverQueryEngine.retrieve at 0x7f97d9151120>. The path of this call may be incorrect.\n",
      "Guessing path of new object is app based on other object (0x7f9821b934d0) using this function.\n",
      "A new object of type <class 'llama_index.response_synthesizers.compact_and_refine.CompactAndRefine'> at 0x7f9803f81f50 is calling an instrumented method <function CompactAndRefine.get_response at 0x7f97e0e1ef20>. The path of this call may be incorrect.\n",
      "Guessing path of new object is app._response_synthesizer based on other object (0x7f9821b91a10) using this function.\n",
      "A new object of type <class 'llama_index.response_synthesizers.compact_and_refine.CompactAndRefine'> at 0x7f9803f81f50 is calling an instrumented method <function Refine.get_response at 0x7f97e042a840>. The path of this call may be incorrect.\n",
      "Guessing path of new object is app._response_synthesizer based on other object (0x7f9821b91a10) using this function.\n",
      "A new object of type <class 'llama_index.query_engine.retriever_query_engine.RetrieverQueryEngine'> at 0x7f9803f7c050 is calling an instrumented method <function RetrieverQueryEngine.retrieve at 0x7f97d9151120>. The path of this call may be incorrect.\n",
      "Guessing path of new object is app based on other object (0x7f9821b934d0) using this function.\n",
      "A new object of type <class 'llama_index.response_synthesizers.compact_and_refine.CompactAndRefine'> at 0x7f9803f81f50 is calling an instrumented method <function CompactAndRefine.get_response at 0x7f97e0e1ef20>. The path of this call may be incorrect.\n",
      "Guessing path of new object is app._response_synthesizer based on other object (0x7f9821b91a10) using this function.\n",
      "A new object of type <class 'llama_index.response_synthesizers.compact_and_refine.CompactAndRefine'> at 0x7f9803f81f50 is calling an instrumented method <function Refine.get_response at 0x7f97e042a840>. The path of this call may be incorrect.\n",
      "Guessing path of new object is app._response_synthesizer based on other object (0x7f9821b91a10) using this function.\n",
      "A new object of type <class 'llama_index.query_engine.retriever_query_engine.RetrieverQueryEngine'> at 0x7f9803f7c050 is calling an instrumented method <function RetrieverQueryEngine.retrieve at 0x7f97d9151120>. The path of this call may be incorrect.\n",
      "Guessing path of new object is app based on other object (0x7f9821b934d0) using this function.\n"
     ]
    },
    {
     "name": "stdout",
     "output_type": "stream",
     "text": [
      "> Merging 4 nodes into parent node.\n",
      "> Parent node id: 7d2e8350-3d97-4089-b482-90fabba627be.\n",
      "> Parent node text: NOTA. - En caso que el accidente sea de TRÁNSITO prim ero se aplica el SOAT y en exceso el seguro...\n",
      "\n"
     ]
    },
    {
     "name": "stderr",
     "output_type": "stream",
     "text": [
      "A new object of type <class 'llama_index.response_synthesizers.compact_and_refine.CompactAndRefine'> at 0x7f9803f81f50 is calling an instrumented method <function CompactAndRefine.get_response at 0x7f97e0e1ef20>. The path of this call may be incorrect.\n",
      "Guessing path of new object is app._response_synthesizer based on other object (0x7f9821b91a10) using this function.\n",
      "A new object of type <class 'llama_index.response_synthesizers.compact_and_refine.CompactAndRefine'> at 0x7f9803f81f50 is calling an instrumented method <function Refine.get_response at 0x7f97e042a840>. The path of this call may be incorrect.\n",
      "Guessing path of new object is app._response_synthesizer based on other object (0x7f9821b91a10) using this function.\n",
      "A new object of type <class 'llama_index.query_engine.retriever_query_engine.RetrieverQueryEngine'> at 0x7f9803f7c050 is calling an instrumented method <function RetrieverQueryEngine.retrieve at 0x7f97d9151120>. The path of this call may be incorrect.\n",
      "Guessing path of new object is app based on other object (0x7f9821b934d0) using this function.\n",
      "A new object of type <class 'llama_index.response_synthesizers.compact_and_refine.CompactAndRefine'> at 0x7f9803f81f50 is calling an instrumented method <function CompactAndRefine.get_response at 0x7f97e0e1ef20>. The path of this call may be incorrect.\n",
      "Guessing path of new object is app._response_synthesizer based on other object (0x7f9821b91a10) using this function.\n",
      "A new object of type <class 'llama_index.response_synthesizers.compact_and_refine.CompactAndRefine'> at 0x7f9803f81f50 is calling an instrumented method <function Refine.get_response at 0x7f97e042a840>. The path of this call may be incorrect.\n",
      "Guessing path of new object is app._response_synthesizer based on other object (0x7f9821b91a10) using this function.\n",
      "A new object of type <class 'llama_index.query_engine.retriever_query_engine.RetrieverQueryEngine'> at 0x7f9803f7c050 is calling an instrumented method <function RetrieverQueryEngine.retrieve at 0x7f97d9151120>. The path of this call may be incorrect.\n",
      "Guessing path of new object is app based on other object (0x7f9821b934d0) using this function.\n",
      "A new object of type <class 'llama_index.response_synthesizers.compact_and_refine.CompactAndRefine'> at 0x7f9803f81f50 is calling an instrumented method <function CompactAndRefine.get_response at 0x7f97e0e1ef20>. The path of this call may be incorrect.\n",
      "Guessing path of new object is app._response_synthesizer based on other object (0x7f9821b91a10) using this function.\n",
      "A new object of type <class 'llama_index.response_synthesizers.compact_and_refine.CompactAndRefine'> at 0x7f9803f81f50 is calling an instrumented method <function Refine.get_response at 0x7f97e042a840>. The path of this call may be incorrect.\n",
      "Guessing path of new object is app._response_synthesizer based on other object (0x7f9821b91a10) using this function.\n",
      "A new object of type <class 'llama_index.query_engine.retriever_query_engine.RetrieverQueryEngine'> at 0x7f9803f7c050 is calling an instrumented method <function RetrieverQueryEngine.retrieve at 0x7f97d9151120>. The path of this call may be incorrect.\n",
      "Guessing path of new object is app based on other object (0x7f9821b934d0) using this function.\n",
      "A new object of type <class 'llama_index.response_synthesizers.compact_and_refine.CompactAndRefine'> at 0x7f9803f81f50 is calling an instrumented method <function CompactAndRefine.get_response at 0x7f97e0e1ef20>. The path of this call may be incorrect.\n",
      "Guessing path of new object is app._response_synthesizer based on other object (0x7f9821b91a10) using this function.\n",
      "A new object of type <class 'llama_index.response_synthesizers.compact_and_refine.CompactAndRefine'> at 0x7f9803f81f50 is calling an instrumented method <function Refine.get_response at 0x7f97e042a840>. The path of this call may be incorrect.\n",
      "Guessing path of new object is app._response_synthesizer based on other object (0x7f9821b91a10) using this function.\n",
      "A new object of type <class 'llama_index.query_engine.retriever_query_engine.RetrieverQueryEngine'> at 0x7f9803f7c050 is calling an instrumented method <function RetrieverQueryEngine.retrieve at 0x7f97d9151120>. The path of this call may be incorrect.\n",
      "Guessing path of new object is app based on other object (0x7f9821b934d0) using this function.\n",
      "A new object of type <class 'llama_index.response_synthesizers.compact_and_refine.CompactAndRefine'> at 0x7f9803f81f50 is calling an instrumented method <function CompactAndRefine.get_response at 0x7f97e0e1ef20>. The path of this call may be incorrect.\n",
      "Guessing path of new object is app._response_synthesizer based on other object (0x7f9821b91a10) using this function.\n",
      "A new object of type <class 'llama_index.response_synthesizers.compact_and_refine.CompactAndRefine'> at 0x7f9803f81f50 is calling an instrumented method <function Refine.get_response at 0x7f97e042a840>. The path of this call may be incorrect.\n",
      "Guessing path of new object is app._response_synthesizer based on other object (0x7f9821b91a10) using this function.\n",
      "A new object of type <class 'llama_index.query_engine.retriever_query_engine.RetrieverQueryEngine'> at 0x7f9803f7c050 is calling an instrumented method <function RetrieverQueryEngine.retrieve at 0x7f97d9151120>. The path of this call may be incorrect.\n",
      "Guessing path of new object is app based on other object (0x7f9821b934d0) using this function.\n"
     ]
    },
    {
     "name": "stdout",
     "output_type": "stream",
     "text": [
      "> Merging 5 nodes into parent node.\n",
      "> Parent node id: 4b81346f-dace-42cd-b795-dd45d3ad4e7e.\n",
      "> Parent node text: Hola chicos hoy Les vamos a explicar\n",
      "\n",
      "cuál es el proceso de la práctica\n",
      "\n",
      "profesional empresarial ...\n",
      "\n"
     ]
    },
    {
     "name": "stderr",
     "output_type": "stream",
     "text": [
      "A new object of type <class 'llama_index.response_synthesizers.compact_and_refine.CompactAndRefine'> at 0x7f9803f81f50 is calling an instrumented method <function CompactAndRefine.get_response at 0x7f97e0e1ef20>. The path of this call may be incorrect.\n",
      "Guessing path of new object is app._response_synthesizer based on other object (0x7f9821b91a10) using this function.\n",
      "A new object of type <class 'llama_index.response_synthesizers.compact_and_refine.CompactAndRefine'> at 0x7f9803f81f50 is calling an instrumented method <function Refine.get_response at 0x7f97e042a840>. The path of this call may be incorrect.\n",
      "Guessing path of new object is app._response_synthesizer based on other object (0x7f9821b91a10) using this function.\n"
     ]
    }
   ],
   "source": [
    "run_evals(eval_questions, tru_recorder, auto_merging_engine_1)"
   ]
  },
  {
   "cell_type": "code",
   "execution_count": 53,
   "id": "d2ecef68-a982-41b4-98d4-bfa6a4bf0571",
   "metadata": {},
   "outputs": [
    {
     "data": {
      "text/html": [
       "<div>\n",
       "<style scoped>\n",
       "    .dataframe tbody tr th:only-of-type {\n",
       "        vertical-align: middle;\n",
       "    }\n",
       "\n",
       "    .dataframe tbody tr th {\n",
       "        vertical-align: top;\n",
       "    }\n",
       "\n",
       "    .dataframe thead th {\n",
       "        text-align: right;\n",
       "    }\n",
       "</style>\n",
       "<table border=\"1\" class=\"dataframe\">\n",
       "  <thead>\n",
       "    <tr style=\"text-align: right;\">\n",
       "      <th></th>\n",
       "      <th>Context Relevance</th>\n",
       "      <th>Answer Relevance</th>\n",
       "      <th>latency</th>\n",
       "      <th>total_cost</th>\n",
       "    </tr>\n",
       "    <tr>\n",
       "      <th>app_id</th>\n",
       "      <th></th>\n",
       "      <th></th>\n",
       "      <th></th>\n",
       "      <th></th>\n",
       "    </tr>\n",
       "  </thead>\n",
       "  <tbody>\n",
       "    <tr>\n",
       "      <th>app_1</th>\n",
       "      <td>0.55</td>\n",
       "      <td>0.985714</td>\n",
       "      <td>2.333333</td>\n",
       "      <td>0.001544</td>\n",
       "    </tr>\n",
       "  </tbody>\n",
       "</table>\n",
       "</div>"
      ],
      "text/plain": [
       "        Context Relevance  Answer Relevance   latency  total_cost\n",
       "app_id                                                           \n",
       "app_1                0.55          0.985714  2.333333    0.001544"
      ]
     },
     "execution_count": 53,
     "metadata": {},
     "output_type": "execute_result"
    }
   ],
   "source": [
    "Tru().get_leaderboard(app_ids=[])"
   ]
  },
  {
   "cell_type": "code",
   "execution_count": 54,
   "id": "739cffd4-ec99-46da-96ad-1c9fb55c7405",
   "metadata": {},
   "outputs": [
    {
     "name": "stdout",
     "output_type": "stream",
     "text": [
      "Starting dashboard ...\n",
      "Config file already exists. Skipping writing process.\n",
      "Credentials file already exists. Skipping writing process.\n",
      "Dashboard already running at path:   Network URL: http://192.168.0.3:8501\n",
      "\n"
     ]
    },
    {
     "data": {
      "text/plain": [
       "<Popen: returncode: None args: ['streamlit', 'run', '--server.headless=True'...>"
      ]
     },
     "execution_count": 54,
     "metadata": {},
     "output_type": "execute_result"
    }
   ],
   "source": [
    "Tru().run_dashboard()"
   ]
  },
  {
   "cell_type": "code",
   "execution_count": 59,
   "id": "9bce3a79-dae2-4367-b5d7-798bc6e97c9f",
   "metadata": {},
   "outputs": [
    {
     "name": "stderr",
     "output_type": "stream",
     "text": [
      "huggingface/tokenizers: The current process just got forked, after parallelism has already been used. Disabling parallelism to avoid deadlocks...\n",
      "To disable this warning, you can either:\n",
      "\t- Avoid using `tokenizers` before the fork if possible\n",
      "\t- Explicitly set the environment variable TOKENIZERS_PARALLELISM=(true | false)\n"
     ]
    },
    {
     "name": "stdout",
     "output_type": "stream",
     "text": [
      "Name: pydantic\n",
      "Version: 2.5.3\n",
      "Summary: Data validation using Python type hints\n",
      "Home-page: \n",
      "Author: \n",
      "Author-email: Samuel Colvin <s@muelcolvin.com>, Eric Jolibois <em.jolibois@gmail.com>, Hasan Ramezani <hasan.r67@gmail.com>, Adrian Garcia Badaracco <1755071+adriangb@users.noreply.github.com>, Terrence Dorsey <terry@pydantic.dev>, David Montague <david@pydantic.dev>, Serge Matveenko <lig@countzero.co>, Marcelo Trylesinski <marcelotryle@gmail.com>, Sydney Runkle <sydneymarierunkle@gmail.com>, David Hewitt <mail@davidhewitt.io>\n",
      "License: \n",
      "Location: /home/theTarnished/anaconda3/envs/AI/lib/python3.11/site-packages\n",
      "Requires: annotated-types, pydantic-core, typing-extensions\n",
      "Required-by: langchain, langchain-core, langsmith, openai, trulens-eval\n",
      "Note: you may need to restart the kernel to use updated packages.\n"
     ]
    }
   ],
   "source": [
    "pip show pydantic"
   ]
  },
  {
   "cell_type": "code",
   "execution_count": 60,
   "id": "968a8aea-074d-4146-8edf-421ee5acea77",
   "metadata": {},
   "outputs": [
    {
     "name": "stderr",
     "output_type": "stream",
     "text": [
      "huggingface/tokenizers: The current process just got forked, after parallelism has already been used. Disabling parallelism to avoid deadlocks...\n",
      "To disable this warning, you can either:\n",
      "\t- Avoid using `tokenizers` before the fork if possible\n",
      "\t- Explicitly set the environment variable TOKENIZERS_PARALLELISM=(true | false)\n"
     ]
    },
    {
     "name": "stdout",
     "output_type": "stream",
     "text": [
      "Name: trulens-eval\n",
      "Version: 0.20.0\n",
      "Summary: Library to systematically track and evaluate LLM based applications.\n",
      "Home-page: https://www.trulens.org\n",
      "Author: Truera Inc\n",
      "Author-email: all@truera.com\n",
      "License: MIT\n",
      "Location: /home/theTarnished/anaconda3/envs/AI/lib/python3.11/site-packages\n",
      "Requires: alembic, dill, frozendict, humanize, langchain, merkle-json, millify, munch, numpy, pydantic, python-dotenv, sqlalchemy, streamlit, streamlit-aggrid, streamlit-extras, typing-extensions, typing-inspect\n",
      "Required-by: \n",
      "Note: you may need to restart the kernel to use updated packages.\n"
     ]
    }
   ],
   "source": [
    "pip show trulens_eval"
   ]
  },
  {
   "cell_type": "code",
   "execution_count": null,
   "id": "224b85fd-8d98-4ec8-9339-1fd3563b7f07",
   "metadata": {},
   "outputs": [],
   "source": []
  }
 ],
 "metadata": {
  "kernelspec": {
   "display_name": "Python 3 (ipykernel)",
   "language": "python",
   "name": "python3"
  },
  "language_info": {
   "codemirror_mode": {
    "name": "ipython",
    "version": 3
   },
   "file_extension": ".py",
   "mimetype": "text/x-python",
   "name": "python",
   "nbconvert_exporter": "python",
   "pygments_lexer": "ipython3",
   "version": "3.11.5"
  }
 },
 "nbformat": 4,
 "nbformat_minor": 5
}
